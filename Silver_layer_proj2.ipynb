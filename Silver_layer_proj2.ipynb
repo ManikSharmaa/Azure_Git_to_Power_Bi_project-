{
 "cells": [
  {
   "cell_type": "markdown",
   "metadata": {
    "application/vnd.databricks.v1+cell": {
     "cellMetadata": {
      "byteLimit": 2048000,
      "rowLimit": 10000
     },
     "inputWidgets": {},
     "nuid": "ced01ec6-8ba6-43d1-8699-f82503b67160",
     "showTitle": false,
     "tableResultSettingsMap": {},
     "title": ""
    }
   },
   "source": [
    "###Silver Layer Script"
   ]
  },
  {
   "cell_type": "code",
   "execution_count": 0,
   "metadata": {
    "application/vnd.databricks.v1+cell": {
     "cellMetadata": {
      "byteLimit": 2048000,
      "rowLimit": 10000
     },
     "inputWidgets": {},
     "nuid": "ec4f1738-c4e9-42cd-9ab8-cd6c1ac54c4b",
     "showTitle": false,
     "tableResultSettingsMap": {},
     "title": ""
    }
   },
   "outputs": [],
   "source": [
    "from pyspark.sql.functions import *\n",
    "from pyspark.sql.types import *"
   ]
  },
  {
   "cell_type": "code",
   "execution_count": 0,
   "metadata": {
    "application/vnd.databricks.v1+cell": {
     "cellMetadata": {
      "byteLimit": 2048000,
      "rowLimit": 10000
     },
     "inputWidgets": {},
     "nuid": "28407d30-6521-4411-9657-e1fcd6ab558e",
     "showTitle": false,
     "tableResultSettingsMap": {},
     "title": ""
    }
   },
   "outputs": [],
   "source": [
    "my_service_credential = dbutils.secrets.get(scope= 'service_credential', key = 'app-reg-proj2') \n",
    "\n",
    "spark.conf.set(\"fs.azure.account.auth.type.azureproj2storage.dfs.core.windows.net\", \"OAuth\")\n",
    "spark.conf.set(\"fs.azure.account.oauth.provider.type.azureproj2storage.dfs.core.windows.net\", \"org.apache.hadoop.fs.azurebfs.oauth2.ClientCredsTokenProvider\")\n",
    "spark.conf.set(\"fs.azure.account.oauth2.client.id.azureproj2storage.dfs.core.windows.net\", \"6a66ad3e-9753-40ea-afd5-64662422bff1\")\n",
    "spark.conf.set(\"fs.azure.account.oauth2.client.secret.azureproj2storage.dfs.core.windows.net\", my_service_credential)\n",
    "spark.conf.set(\"fs.azure.account.oauth2.client.endpoint.azureproj2storage.dfs.core.windows.net\", \"https://login.microsoftonline.com/721593f8-7174-49c9-9958-85c4489c203a/oauth2/token\")\n"
   ]
  },
  {
   "cell_type": "code",
   "execution_count": 0,
   "metadata": {
    "application/vnd.databricks.v1+cell": {
     "cellMetadata": {
      "byteLimit": 2048000,
      "rowLimit": 10000
     },
     "inputWidgets": {},
     "nuid": "7f562129-8a58-4f40-b641-65e975f91554",
     "showTitle": false,
     "tableResultSettingsMap": {},
     "title": ""
    }
   },
   "outputs": [],
   "source": [
    "df_cal = spark.read.csv('abfss://bronze@azureproj2storage.dfs.core.windows.net/AdventureWorks_Calendar', inferSchema = True, header = True)\n"
   ]
  },
  {
   "cell_type": "code",
   "execution_count": 0,
   "metadata": {
    "application/vnd.databricks.v1+cell": {
     "cellMetadata": {
      "byteLimit": 2048000,
      "rowLimit": 10000
     },
     "inputWidgets": {},
     "nuid": "e1a567a8-d019-4dd5-a089-1ead25d9b794",
     "showTitle": false,
     "tableResultSettingsMap": {},
     "title": ""
    }
   },
   "outputs": [],
   "source": [
    "df_cus= spark.read.csv('abfss://bronze@azureproj2storage.dfs.core.windows.net/AdventureWorks_Customers',inferSchema = True, header = True)"
   ]
  },
  {
   "cell_type": "code",
   "execution_count": 0,
   "metadata": {
    "application/vnd.databricks.v1+cell": {
     "cellMetadata": {
      "byteLimit": 2048000,
      "rowLimit": 10000
     },
     "inputWidgets": {},
     "nuid": "54e01b08-80e4-42fc-8852-26184cfd6910",
     "showTitle": false,
     "tableResultSettingsMap": {},
     "title": ""
    }
   },
   "outputs": [],
   "source": [
    "df_prodCat = spark.read.csv('abfss://bronze@azureproj2storage.dfs.core.windows.net/AdventureWorks_Product_Categories', inferSchema = True, header = True)\n"
   ]
  },
  {
   "cell_type": "code",
   "execution_count": 0,
   "metadata": {
    "application/vnd.databricks.v1+cell": {
     "cellMetadata": {
      "byteLimit": 2048000,
      "rowLimit": 10000
     },
     "inputWidgets": {},
     "nuid": "d61587ed-4d0b-4b93-9a55-6a73536948e2",
     "showTitle": false,
     "tableResultSettingsMap": {},
     "title": ""
    }
   },
   "outputs": [],
   "source": [
    "df_prodSubCat = spark.read.csv('abfss://bronze@azureproj2storage.dfs.core.windows.net/AdventureWorks_Product_Subcategories', inferSchema = True, header = True)"
   ]
  },
  {
   "cell_type": "code",
   "execution_count": 0,
   "metadata": {
    "application/vnd.databricks.v1+cell": {
     "cellMetadata": {
      "byteLimit": 2048000,
      "rowLimit": 10000
     },
     "inputWidgets": {},
     "nuid": "4d9ec449-06bd-4e31-9122-802a1e66cb15",
     "showTitle": false,
     "tableResultSettingsMap": {},
     "title": ""
    }
   },
   "outputs": [],
   "source": [
    "df_prod = spark.read.csv('abfss://bronze@azureproj2storage.dfs.core.windows.net/AdventureWorks_Products', inferSchema = True, header = True)"
   ]
  },
  {
   "cell_type": "code",
   "execution_count": 0,
   "metadata": {
    "application/vnd.databricks.v1+cell": {
     "cellMetadata": {
      "byteLimit": 2048000,
      "rowLimit": 10000
     },
     "inputWidgets": {},
     "nuid": "b1bb1b87-0fb1-43b8-a949-887f42474f19",
     "showTitle": false,
     "tableResultSettingsMap": {},
     "title": ""
    }
   },
   "outputs": [],
   "source": [
    "df_returns = spark.read.csv('abfss://bronze@azureproj2storage.dfs.core.windows.net/AdventureWorks_Returns', inferSchema = True, header = True)"
   ]
  },
  {
   "cell_type": "code",
   "execution_count": 0,
   "metadata": {
    "application/vnd.databricks.v1+cell": {
     "cellMetadata": {
      "byteLimit": 2048000,
      "rowLimit": 10000
     },
     "inputWidgets": {},
     "nuid": "f92731b6-f2d0-4f16-9973-0480f1bf72d4",
     "showTitle": false,
     "tableResultSettingsMap": {},
     "title": ""
    }
   },
   "outputs": [],
   "source": [
    "df_sales = spark.read.csv('abfss://bronze@azureproj2storage.dfs.core.windows.net/AdventureWorks_Sales*', inferSchema = True, header = True)"
   ]
  },
  {
   "cell_type": "code",
   "execution_count": 0,
   "metadata": {
    "application/vnd.databricks.v1+cell": {
     "cellMetadata": {
      "byteLimit": 2048000,
      "rowLimit": 10000
     },
     "inputWidgets": {},
     "nuid": "9a5bd439-9208-480a-a8b3-bfba6be54e7f",
     "showTitle": false,
     "tableResultSettingsMap": {},
     "title": ""
    }
   },
   "outputs": [],
   "source": [
    "df_territories = spark.read.csv('abfss://bronze@azureproj2storage.dfs.core.windows.net/AdventureWorks_Territories*', inferSchema = True, header = True)"
   ]
  },
  {
   "cell_type": "code",
   "execution_count": 0,
   "metadata": {
    "application/vnd.databricks.v1+cell": {
     "cellMetadata": {
      "byteLimit": 2048000,
      "rowLimit": 10000
     },
     "inputWidgets": {},
     "nuid": "c1d2a199-3100-43c7-91c3-46d0278bb786",
     "showTitle": false,
     "tableResultSettingsMap": {},
     "title": ""
    }
   },
   "outputs": [],
   "source": [
    "\n",
    "df_cal =df_cal.withColumn('Month', monthname('Date'))\\\n",
    "       .withColumn('Year', year('Date'))\n",
    "\n",
    "df_cal.write.mode('overwrite').save('abfss://silver@azureproj2storage.dfs.core.windows.net/AdventureWorks_Calendar')\n"
   ]
  },
  {
   "cell_type": "code",
   "execution_count": 0,
   "metadata": {
    "application/vnd.databricks.v1+cell": {
     "cellMetadata": {
      "byteLimit": 2048000,
      "rowLimit": 10000
     },
     "inputWidgets": {},
     "nuid": "b8630ce0-d01b-472f-a16a-c9e0415282d1",
     "showTitle": false,
     "tableResultSettingsMap": {},
     "title": ""
    }
   },
   "outputs": [],
   "source": [
    "df_cus= df_cus.withColumn('FullName',concat_ws(' ',col('Prefix'),col('FirstName'),col('LastName')))\n",
    "df_cus.write.mode('overwrite').save('abfss://silver@azureproj2storage.dfs.core.windows.net/AdventureWorks_Customers')"
   ]
  },
  {
   "cell_type": "code",
   "execution_count": 0,
   "metadata": {
    "application/vnd.databricks.v1+cell": {
     "cellMetadata": {
      "byteLimit": 2048000,
      "rowLimit": 10000
     },
     "inputWidgets": {},
     "nuid": "5d86f269-0393-4d34-b911-e97a56a44249",
     "showTitle": false,
     "tableResultSettingsMap": {},
     "title": ""
    }
   },
   "outputs": [],
   "source": [
    "df_prod = spark.createDataFrame([], df_prod.schema).withColumn('ProductSKU', split(col('ProductSKU'),'-')[0])\\\n",
    "    .withColumn('ProductName',split(col('ProductName'), ' ')[0])\n",
    "df_prod.write.mode('overwrite').save('abfss://silver@azureproj2storage.dfs.core.windows.net/AdventureWorks_Products')\n"
   ]
  },
  {
   "cell_type": "code",
   "execution_count": 0,
   "metadata": {
    "application/vnd.databricks.v1+cell": {
     "cellMetadata": {
      "byteLimit": 2048000,
      "rowLimit": 10000
     },
     "inputWidgets": {},
     "nuid": "de6fdf17-5869-4f66-9812-ef90c6f59119",
     "showTitle": false,
     "tableResultSettingsMap": {},
     "title": ""
    }
   },
   "outputs": [],
   "source": [
    "df_sales = df_sales.withColumn('StockDate', to_timestamp('StockDate'))\\\n",
    "    .withColumn('OrderNumber', regexp_replace(col('OrderNumber'),'S','T'))"
   ]
  },
  {
   "cell_type": "code",
   "execution_count": 0,
   "metadata": {
    "application/vnd.databricks.v1+cell": {
     "cellMetadata": {
      "byteLimit": 2048000,
      "rowLimit": 10000
     },
     "inputWidgets": {},
     "nuid": "e66fec68-98ba-40df-b6aa-27ddd2688871",
     "showTitle": false,
     "tableResultSettingsMap": {},
     "title": ""
    }
   },
   "outputs": [],
   "source": [
    "df_total_orders = df_sales.groupBy('OrderDate').agg(count('OrderNumber').alias('Total_orders'))"
   ]
  },
  {
   "cell_type": "code",
   "execution_count": 0,
   "metadata": {
    "application/vnd.databricks.v1+cell": {
     "cellMetadata": {
      "byteLimit": 2048000,
      "rowLimit": 10000
     },
     "inputWidgets": {},
     "nuid": "259fa001-fd37-49ac-a50a-0c417cb8db04",
     "showTitle": false,
     "tableResultSettingsMap": {},
     "title": ""
    }
   },
   "outputs": [],
   "source": [
    "df_sales.write.mode('overwrite').save('abfss://silver@azureproj2storage.dfs.core.windows.net/AdventureWorks_Sales')"
   ]
  },
  {
   "cell_type": "code",
   "execution_count": 0,
   "metadata": {
    "application/vnd.databricks.v1+cell": {
     "cellMetadata": {
      "byteLimit": 2048000,
      "rowLimit": 10000
     },
     "inputWidgets": {},
     "nuid": "6b2addca-9453-4904-9f2a-cc160c17a8d9",
     "showTitle": false,
     "tableResultSettingsMap": {},
     "title": ""
    }
   },
   "outputs": [],
   "source": [
    "df_total_orders.write.mode('overwrite').save('abfss://silver@azureproj2storage.dfs.core.windows.net/AdventureWorks_Total_orders')"
   ]
  },
  {
   "cell_type": "code",
   "execution_count": 0,
   "metadata": {
    "application/vnd.databricks.v1+cell": {
     "cellMetadata": {
      "byteLimit": 2048000,
      "rowLimit": 10000
     },
     "inputWidgets": {},
     "nuid": "3f11aea9-5c94-45e8-87e3-35194e9023ca",
     "showTitle": false,
     "tableResultSettingsMap": {},
     "title": ""
    }
   },
   "outputs": [],
   "source": [
    "df_prodCat.write.mode('overwrite').save('abfss://silver@azureproj2storage.dfs.core.windows.net/AdventureWorks_Productcategories')"
   ]
  },
  {
   "cell_type": "code",
   "execution_count": 0,
   "metadata": {
    "application/vnd.databricks.v1+cell": {
     "cellMetadata": {
      "byteLimit": 2048000,
      "rowLimit": 10000
     },
     "inputWidgets": {},
     "nuid": "c3331abe-4165-4cd6-a664-886fad9b8a3a",
     "showTitle": false,
     "tableResultSettingsMap": {},
     "title": ""
    }
   },
   "outputs": [],
   "source": [
    "df_prodSubCat.write.mode('overwrite').save('abfss://silver@azureproj2storage.dfs.core.windows.net/AdventureWorks_Product_Subcategories')"
   ]
  },
  {
   "cell_type": "code",
   "execution_count": 0,
   "metadata": {
    "application/vnd.databricks.v1+cell": {
     "cellMetadata": {
      "byteLimit": 2048000,
      "rowLimit": 10000
     },
     "inputWidgets": {},
     "nuid": "4654ab39-b7f0-492d-9dd9-2332dfd5e6fd",
     "showTitle": false,
     "tableResultSettingsMap": {},
     "title": ""
    }
   },
   "outputs": [],
   "source": [
    "df_returns.write.mode('overwrite').save('abfss://silver@azureproj2storage.dfs.core.windows.net/AdventureWorks_returns')"
   ]
  },
  {
   "cell_type": "code",
   "execution_count": 0,
   "metadata": {
    "application/vnd.databricks.v1+cell": {
     "cellMetadata": {
      "byteLimit": 2048000,
      "rowLimit": 10000
     },
     "inputWidgets": {},
     "nuid": "fba59448-ec8b-4052-9380-3f26c89593ef",
     "showTitle": false,
     "tableResultSettingsMap": {},
     "title": ""
    }
   },
   "outputs": [],
   "source": [
    "df_territories.write.mode('overwrite').save('abfss://silver@azureproj2storage.dfs.core.windows.net/AdventureWorks_Territories')"
   ]
  },
  {
   "cell_type": "code",
   "execution_count": 0,
   "metadata": {
    "application/vnd.databricks.v1+cell": {
     "cellMetadata": {},
     "inputWidgets": {},
     "nuid": "c0fdfe8d-ded1-47f5-92e9-22914c796b5c",
     "showTitle": false,
     "tableResultSettingsMap": {},
     "title": ""
    }
   },
   "outputs": [],
   "source": []
  }
 ],
 "metadata": {
  "application/vnd.databricks.v1+notebook": {
   "dashboards": [],
   "environmentMetadata": {
    "base_environment": "",
    "client": "1"
   },
   "language": "python",
   "notebookMetadata": {
    "pythonIndentUnit": 4
   },
   "notebookName": "Silver_layer_proj2",
   "widgets": {}
  },
  "language_info": {
   "name": "python"
  }
 },
 "nbformat": 4,
 "nbformat_minor": 0
}